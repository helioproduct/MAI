{
 "cells": [
  {
   "cell_type": "markdown",
   "metadata": {
    "slideshow": {
     "slide_type": "slide"
    }
   },
   "source": [
    "![](pics/presentation.png)"
   ]
  },
  {
   "cell_type": "markdown",
   "metadata": {
    "slideshow": {
     "slide_type": "slide"
    }
   },
   "source": [
    "## о чем мы сегодня?\n",
    "\n",
    "- поговорим о том, как __правильно__ хранить свои исходники\n",
    "- что такое __VCS__, и какие они бывают\n",
    "- почему __GIT__ и с чем его есть?\n",
    "- создадим первый репозиторий\n",
    "- завалимся в репозиторий Лямбды"
   ]
  },
  {
   "cell_type": "markdown",
   "metadata": {
    "slideshow": {
     "slide_type": "slide"
    }
   },
   "source": [
    "## VCS - Version Control System\n",
    "\n",
    "Три самые популярные платформы VCS:\n",
    "1. SVN\n",
    "2. Mercurial\n",
    "3. Git"
   ]
  },
  {
   "cell_type": "markdown",
   "metadata": {
    "slideshow": {
     "slide_type": "subslide"
    }
   },
   "source": [
    "## SVN\n",
    "\n",
    "![](https://upload.wikimedia.org/wikipedia/ru/7/79/Subversion.png)\n",
    "\n",
    "- __централизованная__ открытая VCS\n",
    "- `svnserve` - серверная часть, в которой хранятся исходники\n",
    "- `svn` - клиентская часть, в которой программисты трудятся над кодом\n",
    "- когда код готов, он отправляется на серверную часть, где сливается с предшествующей версией"
   ]
  },
  {
   "cell_type": "markdown",
   "metadata": {
    "slideshow": {
     "slide_type": "subslide"
    }
   },
   "source": [
    "## Mercurial\n",
    "\n",
    "![](https://superdevresources.com/wp-content/uploads/2015/01/mercurial-logo.png)\n",
    "\n",
    "- __децентрализованая__ VCS\n",
    "- хранит данные об изменении каждого файла\n"
   ]
  },
  {
   "cell_type": "markdown",
   "metadata": {
    "slideshow": {
     "slide_type": "subslide"
    }
   },
   "source": [
    "## Git\n",
    "\n",
    "![](http://cdn.instantlogosearch.com/svg/svgporn/git-icon.svg)\n",
    "\n",
    "- __децентрализованная__ VCS\n",
    "- хранит общие изменения всего репозитория\n",
    "- гибкая система ветвления\n",
    "- возможность сохранять изменения без доступа к интернету\n",
    "- каждый программист клонирует не _копию_, а __полноценную__ версию репозитория"
   ]
  },
  {
   "cell_type": "markdown",
   "metadata": {
    "slideshow": {
     "slide_type": "subslide"
    }
   },
   "source": [
    "![](https://cdn.arstechnica.net/wp-content/uploads/2013/02/linus-eff-you-640x363.png)"
   ]
  },
  {
   "cell_type": "markdown",
   "metadata": {
    "slideshow": {
     "slide_type": "slide"
    }
   },
   "source": [
    "## Платформы для Git-репозиториев (SaaS)"
   ]
  },
  {
   "cell_type": "markdown",
   "metadata": {
    "slideshow": {
     "slide_type": "subslide"
    }
   },
   "source": [
    "### Github \n",
    "![](http://cdn.instantlogosearch.com/svg/svgporn/github-icon.svg)\n",
    "\n",
    "- самое популярное решение для open-source проектов\n",
    "- сколько угодно открытых репозиториев\n",
    "- приватные репозитории - по подписке\n",
    "- объединение в организации ([@lambdafrela](https://github.com/lambdafrela))\n",
    "- интеграция с множеством сторонних сервисов - Slack, Trello, Travis CI, etc.\n",
    "- поддержка GIT, SVN, Hg и TFS"
   ]
  },
  {
   "cell_type": "markdown",
   "metadata": {
    "slideshow": {
     "slide_type": "subslide"
    }
   },
   "source": [
    "### Gitlab\n",
    "![](http://cdn.instantlogosearch.com/svg/svgporn/gitlab.svg)\n",
    "\n",
    "- сколько угодно открытых репозиториев\n",
    "- сколько угодно приватных репозиториев\n",
    "- объединение в организации\n",
    "- гибкая настройка прав доступа\n",
    "- собственный сервис _continous integration_\n",
    "- можно запускать на своем сервере"
   ]
  },
  {
   "cell_type": "markdown",
   "metadata": {
    "slideshow": {
     "slide_type": "subslide"
    }
   },
   "source": [
    "### Bitbucket\n",
    "![](http://cdn.instantlogosearch.com/svg/svgporn/bitbucket.svg)\n",
    "\n",
    "- сколько угодно открытых репозиториев\n",
    "- сколько угодно приватных репозиториев\n",
    "- объединение в организации\n",
    "- собственные клиенты на ПК и Android\n",
    "- интеграция с enterprise-сервисами Atlassian - Jira, etc."
   ]
  },
  {
   "cell_type": "markdown",
   "metadata": {
    "slideshow": {
     "slide_type": "slide"
    }
   },
   "source": [
    "## создадим первый репозиторий"
   ]
  },
  {
   "cell_type": "markdown",
   "metadata": {
    "slideshow": {
     "slide_type": "subslide"
    }
   },
   "source": [
    "### итак, с чего же начать?\n",
    "\n",
    "Дадим системе понять, кто мы такие:\n",
    "\n",
    "1. `git config --global user.name \"John Doe\"`\n",
    "2. `git config --global user.email foo@citrix.com`\n"
   ]
  },
  {
   "cell_type": "markdown",
   "metadata": {
    "slideshow": {
     "slide_type": "subslide"
    }
   },
   "source": [
    "## создадим проект\n",
    "\n",
    "1. создадим папку с нашим будущим проектом `mkdir myfirstrepo`\n",
    "2. зайдем в папку `cd myfirstrepo` \n",
    "3. инициализируем репозиторий  \n",
    "`git init`\n",
    "\n",
    "![](pics/1.png)"
   ]
  },
  {
   "cell_type": "markdown",
   "metadata": {
    "slideshow": {
     "slide_type": "subslide"
    }
   },
   "source": [
    "### создадим в нем пустой файл и добавим в него текст\n",
    "\n",
    "![](pics/2-3.png)"
   ]
  },
  {
   "cell_type": "markdown",
   "metadata": {
    "slideshow": {
     "slide_type": "subslide"
    }
   },
   "source": [
    "### немного о структуре репозитория\n",
    "любой git-репозиторий состоит из трех \"деревьев\", в которых хранятся изменения:\n",
    "\n",
    "- `working directory` - рабочая папка, в которой содержатся файлы в отредактированном виде\n",
    "- `Index` - выступает в роли \"временного фиксатора\"\n",
    "- `HEAD` - файлы находятся в состоянии последнего сделанного коммита\n",
    "\n",
    "![http://rogerdudler.github.io/](http://rogerdudler.github.io/git-guide/img/trees.png)"
   ]
  },
  {
   "cell_type": "markdown",
   "metadata": {
    "slideshow": {
     "slide_type": "subslide"
    }
   },
   "source": [
    "### посмотрим, что стало с нашим репозиторием\n",
    "\n",
    "`git status`\n",
    "\n",
    "![](pics/4.png)"
   ]
  },
  {
   "cell_type": "markdown",
   "metadata": {
    "slideshow": {
     "slide_type": "subslide"
    }
   },
   "source": [
    "### добавим наш новый файл в `Index`\n",
    "\n",
    "`git add .`\n",
    "\n",
    "![](pics/5.png)"
   ]
  },
  {
   "cell_type": "markdown",
   "metadata": {
    "slideshow": {
     "slide_type": "subslide"
    }
   },
   "source": [
    "### создадим __commit__ (отпечаток) наших изменений, добавив наш файл в `HEAD`\n",
    "\n",
    "`git commit -m \"my first commit\"`\n",
    "\n",
    "![](pics/6.png)"
   ]
  },
  {
   "cell_type": "markdown",
   "metadata": {
    "slideshow": {
     "slide_type": "slide"
    }
   },
   "source": [
    "## Использование Github как хостинг для репозитория"
   ]
  },
  {
   "cell_type": "markdown",
   "metadata": {
    "slideshow": {
     "slide_type": "subslide"
    }
   },
   "source": [
    "### создадим репозиторий на Github\n",
    "\n",
    "![](pics/7.png)"
   ]
  },
  {
   "cell_type": "markdown",
   "metadata": {
    "slideshow": {
     "slide_type": "subslide"
    }
   },
   "source": [
    "### создадим репозиторий на Github\n",
    "\n",
    "![](pics/8.png)"
   ]
  },
  {
   "cell_type": "markdown",
   "metadata": {
    "slideshow": {
     "slide_type": "subslide"
    }
   },
   "source": [
    "### создадим репозиторий на Github\n",
    "\n",
    "![](pics/9.png)"
   ]
  },
  {
   "cell_type": "markdown",
   "metadata": {
    "slideshow": {
     "slide_type": "subslide"
    }
   },
   "source": [
    "### сделаем наш локальный репозиторий общедоступным\n",
    "\n",
    "поступим, как нам советуют на Github, в случае, если репозиторий уже существует:\n",
    "- добавим _remote_ по имени _origin_, т.е. путь к серверу, на котором будет храниться код  \n",
    "`git remote add origin https://github.com/murych/myfirstproject.git`\n",
    "- зальем наш код в _remote_ в ветку _master_  \n",
    "`git push -u origin master`\n",
    "- введем логин и пароль\n",
    "\n",
    "![](pics/10.png)"
   ]
  },
  {
   "cell_type": "markdown",
   "metadata": {
    "slideshow": {
     "slide_type": "subslide"
    }
   },
   "source": [
    "### voila~\n",
    "\n",
    "![](pics/11.png)"
   ]
  },
  {
   "cell_type": "markdown",
   "metadata": {
    "slideshow": {
     "slide_type": "subslide"
    }
   },
   "source": [
    "### voila~\n",
    "\n",
    "![](pics/12.png)"
   ]
  },
  {
   "cell_type": "markdown",
   "metadata": {
    "slideshow": {
     "slide_type": "slide"
    }
   },
   "source": [
    "## Принимаем участие в \"разработке\" чужих проектов"
   ]
  },
  {
   "cell_type": "markdown",
   "metadata": {
    "slideshow": {
     "slide_type": "subslide"
    }
   },
   "source": [
    "А теперь - немного практики! Найдем репозиторий нашего сообщества, сохраним себе, и даже внесем небольшой вклад в общее дело!\n",
    "\n",
    "- заходим на [Github](https://github.com/) и ищем пользователя `lambdafrela`\n",
    "\n",
    "![](pics/13.png)"
   ]
  },
  {
   "cell_type": "markdown",
   "metadata": {
    "slideshow": {
     "slide_type": "subslide"
    }
   },
   "source": [
    "- выбираем **репозиторий** `myfirstproject` и создадем **форк** репозитория, т.е. вашу личную его копию, над которой вы имеете полную власть\n",
    "\n",
    "![](pics/14.png)"
   ]
  },
  {
   "cell_type": "markdown",
   "metadata": {
    "slideshow": {
     "slide_type": "subslide"
    }
   },
   "source": [
    "![](pics/15.png)"
   ]
  },
  {
   "cell_type": "markdown",
   "metadata": {
    "slideshow": {
     "slide_type": "subslide"
    }
   },
   "source": [
    "- склонируем репозиторий на свой компьютер  \n",
    "`git clone https://github.com/murych/myfirstproject.git`\n",
    "\n",
    "![](pics/16.png)"
   ]
  },
  {
   "cell_type": "markdown",
   "metadata": {
    "slideshow": {
     "slide_type": "subslide"
    }
   },
   "source": [
    "- создадим файл под названием `ваше_имя.txt`, в который запишем ваш email\n",
    "\n",
    "![](pics/17.png)"
   ]
  },
  {
   "cell_type": "markdown",
   "metadata": {
    "slideshow": {
     "slide_type": "subslide"
    }
   },
   "source": [
    "- сделаем коммит и запушим изменения в форк\n",
    "\n",
    "![](pics/18.png)"
   ]
  },
  {
   "cell_type": "markdown",
   "metadata": {
    "slideshow": {
     "slide_type": "subslide"
    }
   },
   "source": [
    "- теперь, когда наши изменения есть в форке, мы можем сделать запрос на добавление их в исходный репозиторий __Pull Request__\n",
    "\n",
    "![](pics/19.png)"
   ]
  },
  {
   "cell_type": "markdown",
   "metadata": {
    "slideshow": {
     "slide_type": "subslide"
    }
   },
   "source": [
    "- в поле _base fork_ укажем __исходный__ репозиторий\n",
    "- в поле _head fork_ укажем свой форк\n",
    "- нажмем на кнопку __Create pull request__\n",
    "\n",
    "![](pics/20.png)"
   ]
  },
  {
   "cell_type": "markdown",
   "metadata": {
    "slideshow": {
     "slide_type": "subslide"
    }
   },
   "source": [
    "![](pics/21.png)"
   ]
  },
  {
   "cell_type": "markdown",
   "metadata": {
    "slideshow": {
     "slide_type": "slide"
    }
   },
   "source": [
    "## все, кто сделают свой __Pull request__, станут участниками @lambdafrela на Github"
   ]
  },
  {
   "cell_type": "markdown",
   "metadata": {
    "slideshow": {
     "slide_type": "slide"
    }
   },
   "source": [
    "## домашнее задание\n",
    "\n",
    "Возьмите любой свой проект, создайте для него репозиторий на github и залейте в него код своего проекта.\n",
    "\n",
    "Если очень хочется приватных репозиториев - для студентов [бесплатно](https://education.github.com/) (https://education.github.com/)"
   ]
  },
  {
   "cell_type": "markdown",
   "metadata": {
    "slideshow": {
     "slide_type": "slide"
    }
   },
   "source": [
    "## что в следующий раз?\n",
    "\n",
    "- ближе познакомимся со структурой git репозиториев\n",
    "- научимся создавать ветки\n",
    "- научимся откладывать изменения до лучших времен\n",
    "- поговорим о каноничном workflow\n",
    "- немного tips&tricks"
   ]
  }
 ],
 "metadata": {
  "celltoolbar": "Slideshow",
  "kernelspec": {
   "display_name": "Python 3",
   "language": "python",
   "name": "python3"
  },
  "language_info": {
   "codemirror_mode": {
    "name": "ipython",
    "version": 3
   },
   "file_extension": ".py",
   "mimetype": "text/x-python",
   "name": "python",
   "nbconvert_exporter": "python",
   "pygments_lexer": "ipython3",
   "version": "3.6.2"
  }
 },
 "nbformat": 4,
 "nbformat_minor": 1
}
