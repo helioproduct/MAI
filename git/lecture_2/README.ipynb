{
 "cells": [
  {
   "cell_type": "markdown",
   "metadata": {
    "slideshow": {
     "slide_type": "slide"
    }
   },
   "source": [
    "![](pics/presentation.png)"
   ]
  },
  {
   "cell_type": "markdown",
   "metadata": {
    "slideshow": {
     "slide_type": "slide"
    }
   },
   "source": [
    "## о чем говорим сегодня?\n",
    "\n",
    "- научимся создавать ветки\n",
    "- научимся откладывать изменения до лучших времен\n",
    "- поговорим о каноничном workflow\n",
    "- немного tips&tricks"
   ]
  },
  {
   "cell_type": "markdown",
   "metadata": {
    "slideshow": {
     "slide_type": "slide"
    }
   },
   "source": [
    "## ветвление (branches)\n",
    "\n",
    "![](pics/branch.png)"
   ]
  },
  {
   "cell_type": "markdown",
   "metadata": {
    "slideshow": {
     "slide_type": "subslide"
    }
   },
   "source": [
    "### немного команд\n",
    "\n",
    "- `git checkout -b develop` - создать новую ветку `develop` и переключиться на нее\n",
    "- `git branch` - показать все ветки\n",
    "- `git checkout master` - переключиться на главную ветку\n",
    "- `git merge <branch>` - слить текущую ветку с веткой `<branch>`\n",
    "- `git branch -d <branch>` - удалить ветку \n",
    " - `-D` - принудительно удалить ветку\n",
    "- `git merge <branch> --squash` - при слиянии веток собрать несколько коммитов в один"
   ]
  },
  {
   "cell_type": "markdown",
   "metadata": {
    "slideshow": {
     "slide_type": "subslide"
    }
   },
   "source": [
    "### создадим ветку `develop`\n",
    "`git checkout -b develop`  \n",
    "\n",
    "и посмотрим, какие ветки у нас теперь есть:  \n",
    "\n",
    "`git branch`\n",
    "\n",
    "![](pics/10.png)"
   ]
  },
  {
   "cell_type": "markdown",
   "metadata": {
    "slideshow": {
     "slide_type": "subslide"
    }
   },
   "source": [
    "### внесем в эту ветку изменения\n",
    "например, поменяем файл `hello.txt` и закоммитим его новое состояние\n",
    "\n",
    "![](pics/11.png)"
   ]
  },
  {
   "cell_type": "markdown",
   "metadata": {
    "slideshow": {
     "slide_type": "subslide"
    }
   },
   "source": [
    "### таким образом, у нас есть две версии файла `hello.txt`, между которыми можно переключаться\n",
    "\n",
    "![](pics/13.png)"
   ]
  },
  {
   "cell_type": "markdown",
   "metadata": {
    "slideshow": {
     "slide_type": "subslide"
    }
   },
   "source": [
    "### чтобы наши изменения оказались в главной ветке, их надо слить\n",
    "\n",
    "переключившись в ветку `master`, выполним:\n",
    "\n",
    "`git merge develop`\n",
    "\n",
    "![](pics/14.png)"
   ]
  },
  {
   "cell_type": "markdown",
   "metadata": {
    "slideshow": {
     "slide_type": "subslide"
    }
   },
   "source": [
    "![](pics/merge_meme.jpg)"
   ]
  },
  {
   "cell_type": "markdown",
   "metadata": {
    "slideshow": {
     "slide_type": "subslide"
    }
   },
   "source": [
    "[Разница между `git merge --no-ff` и `git merge`](https://stackoverflow.com/questions/9069061/what-is-the-difference-between-git-merge-and-git-merge-no-ff)\n",
    "\n",
    "![](pics/merge.png)"
   ]
  },
  {
   "cell_type": "markdown",
   "metadata": {
    "slideshow": {
     "slide_type": "slide"
    }
   },
   "source": [
    "## заначки (stash)"
   ]
  },
  {
   "cell_type": "markdown",
   "metadata": {
    "slideshow": {
     "slide_type": "subslide"
    }
   },
   "source": [
    "### немного команд\n",
    "- `git stash` - _спрятать_ свои правки\n",
    "- `git stash apply` - применить изменения к текущей версии\n",
    "- `git stash list` - вывести список изменений\n",
    "- `git stash show` - вывести последние изменения\n",
    "- `git stash drop` - удалить последние изменения в списке\n",
    "- `git stash pop` - [`apply`] + [`drop`]\n",
    "- `git stash clear` - очистить список изменений"
   ]
  },
  {
   "cell_type": "markdown",
   "metadata": {
    "slideshow": {
     "slide_type": "subslide"
    }
   },
   "source": [
    "допустим, в главном репозитории полным ходом идет разработка\n",
    "\n",
    "![](pics/1.png)"
   ]
  },
  {
   "cell_type": "markdown",
   "metadata": {
    "slideshow": {
     "slide_type": "subslide"
    }
   },
   "source": [
    "мы, в свою очередь, тоже не отстаем и изо всех сил вносим изменения\n",
    "\n",
    "![](pics/2.png)"
   ]
  },
  {
   "cell_type": "markdown",
   "metadata": {
    "slideshow": {
     "slide_type": "subslide"
    }
   },
   "source": [
    "в таком случае, при попытке получить актуальную версию кода, Git одарит нас ошибкой:\n",
    "\n",
    "![](pics/3.png)"
   ]
  },
  {
   "cell_type": "markdown",
   "metadata": {
    "slideshow": {
     "slide_type": "subslide"
    }
   },
   "source": [
    "### что же делать? -- прятать свой ~~говно~~код!\n",
    "\n",
    "`git stash`\n",
    "\n",
    "![](pics/4.png)"
   ]
  },
  {
   "cell_type": "markdown",
   "metadata": {
    "slideshow": {
     "slide_type": "subslide"
    }
   },
   "source": [
    "### теперь мы можем скачать код из главного репозитория и попробовать применить свои изменения\n",
    "\n",
    "`git pull`\n",
    "\n",
    "`git stash pop`\n",
    "\n",
    "![](pics/5.png)"
   ]
  },
  {
   "cell_type": "markdown",
   "metadata": {
    "slideshow": {
     "slide_type": "subslide"
    }
   },
   "source": [
    "### путь только один -- исправлять конфликт ручками\n",
    "\n",
    "для этого можно использовать редактор/IDE/специальные программы для решения конфликтов, аля [Meld](http://meldmerge.org/)\n",
    "\n",
    "![](pics/8.png)"
   ]
  },
  {
   "cell_type": "markdown",
   "metadata": {
    "slideshow": {
     "slide_type": "subslide"
    }
   },
   "source": [
    "### когда конфликт разрешен, можно спокойно отправлять свой код в репозиторий\n",
    "\n",
    "![](pics/9.png)"
   ]
  },
  {
   "cell_type": "markdown",
   "metadata": {
    "slideshow": {
     "slide_type": "subslide"
    }
   },
   "source": [
    "![](pics/success.jpg)"
   ]
  },
  {
   "cell_type": "markdown",
   "metadata": {
    "slideshow": {
     "slide_type": "slide"
    }
   },
   "source": [
    "## git workflow"
   ]
  },
  {
   "cell_type": "markdown",
   "metadata": {
    "slideshow": {
     "slide_type": "subslide"
    }
   },
   "source": [
    "[](https://habrastorage.org/storage/4bf7e68c/49e29c35/3a01bd6b/782a1be3.png)\n",
    "![](pics/gitflow_1.jpg)"
   ]
  },
  {
   "cell_type": "markdown",
   "metadata": {
    "slideshow": {
     "slide_type": "subslide"
    }
   },
   "source": [
    "### главные ветки - `master` и `develop`\n",
    "\n",
    "![](http://nvie.com/img/main-branches@2x.png)"
   ]
  },
  {
   "cell_type": "markdown",
   "metadata": {
    "slideshow": {
     "slide_type": "subslide"
    }
   },
   "source": [
    "### под каждый новый функционал - отдельную ветку `feature` от ветки `develop`\n",
    "   \n",
    "`git checkout -b my_feature develop`\n",
    "\n",
    "![](http://nvie.com/img/fb@2x.png)"
   ]
  },
  {
   "cell_type": "markdown",
   "metadata": {
    "slideshow": {
     "slide_type": "subslide"
    }
   },
   "source": [
    "### если в программе обнаруживается неисправность, требующая срочных исправлений - создается ветка `hotfix` от `master`, которая потом сливается и с `master`, и с `develop`\n",
    "\n",
    "`git checkout -b hotfix master`\n",
    "\n",
    "`git checkout master`\n",
    "\n",
    "`git merge --no-ff hotfix`\n",
    "\n",
    "`git branch -d hotfix`\n",
    "\n",
    "![](https://habrastorage.org/storage/a303d38c/6c9c561c/8bcc22f7/3f8cbad4.png)"
   ]
  },
  {
   "cell_type": "markdown",
   "metadata": {
    "slideshow": {
     "slide_type": "slide"
    }
   },
   "source": [
    "## semantic versioning\n",
    "\n",
    "__ТЭГ__ == __Релиз__, используется для фиксирования версий вашего ПО\n",
    "\n",
    "### немного команд\n",
    "- `git tag <name>` - создать тэг (например, v1.3.1)\n",
    "- `git push --tags` - залить все тэги в репозиторий\n",
    "- `git push <tag>` - залить конкретный тэг в репозиторий\n"
   ]
  },
  {
   "cell_type": "markdown",
   "metadata": {
    "slideshow": {
     "slide_type": "subslide"
    }
   },
   "source": [
    "Номер версии в формате __MAJOR.MINOR.PATCH__ задается следующим образом:\n",
    "\n",
    "1. __MAJOR__ версия - увеличивается, когда сделаны обратно несовместимые изменения API (крупные релизы)\n",
    "2. __MINOR__ версия - увеличивается, когда добавляется новый функционал, не нарушающий обратной совместимости (новые фичи)\n",
    "3. __PATCH__ версия - увеличивается, когда вы делаете обратно совместимые исправления (исправления, фиксы)"
   ]
  },
  {
   "cell_type": "markdown",
   "metadata": {
    "slideshow": {
     "slide_type": "slide"
    }
   },
   "source": [
    "## tips&tricks\n",
    "\n",
    "![](pics/linus_meme.jpg)"
   ]
  },
  {
   "cell_type": "markdown",
   "metadata": {
    "slideshow": {
     "slide_type": "subslide"
    }
   },
   "source": [
    "- если допущена ошибка при создании коммита (не те файлы, не тот комментарий), её можно откатить\n",
    "```bash\n",
    "git reset --soft HEAD^\n",
    "```"
   ]
  },
  {
   "cell_type": "markdown",
   "metadata": {},
   "source": [
    "- если нужно посмотреть содержимое другой ветки, а в текущей есть файлы, еще **не** добавленные в Index:\n",
    "```bash\n",
    "git stash save --include-untracked\n",
    "```"
   ]
  },
  {
   "cell_type": "markdown",
   "metadata": {
    "slideshow": {
     "slide_type": "subslide"
    }
   },
   "source": [
    "- если отредактировано много файлов и добавлять сразу все __НЕ хочется__, то можно использовать `git add -i`\n",
    "\n",
    "![](pics/18.png)"
   ]
  },
  {
   "cell_type": "markdown",
   "metadata": {
    "slideshow": {
     "slide_type": "subslide"
    }
   },
   "source": [
    "- файл `.gitignore` содержит описание файлов, которые git не будет отслеживать\n",
    "    - например, если мы не хотим, чтобы в репозитории хранилась папка `.idea` и  все файлы формата `dll`, то пишем:\n",
    "        - `.idea/`\n",
    "        - `*.dll`\n",
    "\n",
    "![](pics/15.png)"
   ]
  },
  {
   "cell_type": "markdown",
   "metadata": {
    "slideshow": {
     "slide_type": "subslide"
    }
   },
   "source": [
    "- `git log` - посмотреть историю коммитов в проекте\n",
    "\n",
    "![](pics/16.png)"
   ]
  },
  {
   "cell_type": "markdown",
   "metadata": {
    "slideshow": {
     "slide_type": "subslide"
    }
   },
   "source": [
    "- `git lg` - один из альтернативных вариантов истории коммитов, более наглядный для его использования надо создать алиас:\n",
    "\n",
    "```bash\n",
    "git config --global alias.lg \"log --color --graph --pretty=format:'%Cred%h%Creset -%C(yellow)%d%Creset %s %Cgreen(%cr)%C(bold blue)<%an>%Creset' --abbrev-commit\"\n",
    "```\n",
    "\n",
    "![](pics/17.png)"
   ]
  },
  {
   "cell_type": "markdown",
   "metadata": {
    "slideshow": {
     "slide_type": "subslide"
    }
   },
   "source": [
    "- использование GUI клиентов `¯\\_(ツ)_/¯`\n",
    "\n",
    " - [GitExtensions](https://gitextensions.github.io/)\n",
    "![](pics/gitextensions.png)"
   ]
  },
  {
   "cell_type": "markdown",
   "metadata": {
    "slideshow": {
     "slide_type": "subslide"
    }
   },
   "source": [
    "- использование GUI клиентов `¯\\_(ツ)_/¯`\n",
    "\n",
    " - [GitKraken](https://www.gitkraken.com/)\n",
    "![](https://git-scm.com/images/guis/git-kraken@2x.png)"
   ]
  },
  {
   "cell_type": "markdown",
   "metadata": {
    "slideshow": {
     "slide_type": "subslide"
    }
   },
   "source": [
    "- использование GUI клиентов `¯\\_(ツ)_/¯`\n",
    "\n",
    " - [SourceTree](https://gitextensions.github.io/)\n",
    "![](https://www.sourcetreeapp.com/dam/jcr:580c367b-c240-453d-aa18-c7ced44324f9/hero-mac-screenshot.png?cdnVersion=hp)"
   ]
  },
  {
   "cell_type": "markdown",
   "metadata": {
    "slideshow": {
     "slide_type": "slide"
    }
   },
   "source": [
    "## ДЗ\n",
    "\n",
    "создать в своем форке репозитория **myfirstproject** новую ветку, накуролесить в ней, слить с главной и отправить Pull Request"
   ]
  },
  {
   "cell_type": "markdown",
   "metadata": {
    "slideshow": {
     "slide_type": "slide"
    }
   },
   "source": [
    "## всякий референс\n",
    "\n",
    "Git\n",
    "\n",
    "- [Git Cheat Sheet](https://www.alexkras.com/getting-started-with-git/)\n",
    "- [Git useful tips](https://ericdouglas.github.io/2016/04/01/Git-Useful-Tips/)\n",
    "- [Лучшая конфигурация Git](http://lambda-it.ru/posts/luchshaya-konfiguraciya-git/)\n",
    "\n",
    "Ветвление\n",
    "\n",
    "- [Глава 4. Чудеса ветвления](http://www-cs-students.stanford.edu/~blynn/gitmagic/intl/ru/ch04.html)\n",
    "- [Управление ветвлением и слиянием](http://uleming.github.io/gitbook/3_%D0%A3%D0%BF%D1%80%D0%B0%D0%B2%D0%BB%D0%B5%D0%BD%D0%B8%D0%B5_%D0%B2%D0%B5%D1%82%D0%B2%D0%BB%D0%B5%D0%BD%D0%B8%D0%B5%D0%BC_%D0%B8_%D1%81%D0%BB%D0%B8%D1%8F%D0%BD%D0%B8%D0%B5%D0%BC.html)\n",
    "\n",
    "Заначка\n",
    "\n",
    "- [Инструменты Git - Прибережение и очистка](https://git-scm.com/book/ru/v2/%D0%98%D0%BD%D1%81%D1%82%D1%80%D1%83%D0%BC%D0%B5%D0%BD%D1%82%D1%8B-Git-%D0%9F%D1%80%D0%B8%D0%B1%D0%B5%D1%80%D0%B5%D0%B6%D0%B5%D0%BD%D0%B8%D0%B5-%D0%B8-%D0%BE%D1%87%D0%B8%D1%81%D1%82%D0%BA%D0%B0)\n",
    "- [Git Stash](https://www.atlassian.com/git/tutorials/git-stash/)\n",
    "\n",
    "\n",
    "Воркфлоу и версии\n",
    "\n",
    "- [Семантическое Версионирование 2.0.0](http://semver.org/lang/ru)\n",
    "- [Удачная модель ветвления для Git](https://habrahabr.ru/post/106912/)"
   ]
  }
 ],
 "metadata": {
  "celltoolbar": "Slideshow",
  "kernelspec": {
   "display_name": "Python 3",
   "language": "python",
   "name": "python3"
  },
  "language_info": {
   "codemirror_mode": {
    "name": "ipython",
    "version": 3
   },
   "file_extension": ".py",
   "mimetype": "text/x-python",
   "name": "python",
   "nbconvert_exporter": "python",
   "pygments_lexer": "ipython3",
   "version": "3.6.1"
  }
 },
 "nbformat": 4,
 "nbformat_minor": 1
}
